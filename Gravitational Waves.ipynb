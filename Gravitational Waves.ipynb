{
 "cells": [
  {
   "cell_type": "markdown",
   "metadata": {
    "id": "7z_wKrc_SjWo"
   },
   "source": [
    "# **Part I**\n",
    "\n",
    "# **InceptionV3**"
   ]
  },
  {
   "cell_type": "markdown",
   "metadata": {
    "id": "KKQAXXf0t2Sl"
   },
   "source": [
    "\n",
    "# **Step 1. Data Preprocessing**\n",
    "\n"
   ]
  },
  {
   "cell_type": "code",
   "execution_count": null,
   "metadata": {
    "colab": {
     "base_uri": "https://localhost:8080/"
    },
    "executionInfo": {
     "elapsed": 8481,
     "status": "ok",
     "timestamp": 1705519551052,
     "user": {
      "displayName": "Mohammad Mahdi Khojasteh",
      "userId": "13762549074079950332"
     },
     "user_tz": -210
    },
    "id": "QpMsTZQksg7n",
    "outputId": "805ac702-b09f-401a-c875-74fa07049009"
   },
   "outputs": [
    {
     "name": "stdout",
     "output_type": "stream",
     "text": [
      "Found 22348 images belonging to 22 classes.\n",
      "Found 4800 images belonging to 22 classes.\n"
     ]
    }
   ],
   "source": [
    "# TensorFlow is the most widely used library in developing deep learning models. \n",
    "# Many developers use TensorFlow in their sensitive and advanced projects. \n",
    "# One of the main reasons for TensorFlow's popularity is its open source. \n",
    "# Tensorflow is superior to other libraries in numerical calculations, which is one of the most vital needs of deep learning. \n",
    "# TensorFlow combines machine learning and deep learning (aka neural networks) models and algorithms and transforms them into a useful and usable form.\n",
    "\n",
    "from tensorflow.keras.preprocessing.image import ImageDataGenerator # This line imports the ImageDataGenerator class from TensorFlow's Keras API. ImageDataGenerator is used for real-time data augmentation and preprocessing of image data.\n",
    "import tensorflow as tf # This line imports TensorFlow, a powerful library for numerical computing and machine learning, particularly deep learning.\n",
    "\n",
    "# Load Data: Use Keras' ImageDataGenerator to load images. \n",
    "# This class also allows you to perform data augmentation which is helpful for generalizing the model. \n",
    "# Preprocess Data: InceptionV3 requires specific input preprocessing. F\n",
    "# ortunately, Keras provides a function for this: tensorflow.keras.applications.inception_v3.preprocess_input.\n",
    "\n",
    "train_datagen = ImageDataGenerator(\n",
    "    preprocessing_function=tf.keras.applications.inception_v3.preprocess_input,\n",
    ")\n",
    "# Here, an instance of ImageDataGenerator is created named train_datagen. \n",
    "# This is configured to preprocess images according to the preprocessing needs of the InceptionV3 model. \n",
    "# The preprocess_input function specific to InceptionV3 is used to ensure that input images are properly scaled and normalized for the model.\n",
    "\n",
    "train_data_dir = '/content/train/train'\n",
    "validation_data_dir = '/content/validation/validation'\n",
    "# These lines define the file paths for the training and validation datasets, respectively.\n",
    "\n",
    "train_generator = train_datagen.flow_from_directory(\n",
    "    train_data_dir,\n",
    "    target_size=(299, 299),  # InceptionV3 input size\n",
    "    batch_size=32,\n",
    "    class_mode='categorical')\n",
    "# This creates a generator (train_generator) that will read images from the directory specified in train_data_dir, preprocess them, and yield batches of images and labels for training.\n",
    "# target_size=(299, 299) sets the dimensions to which all images found will be resized, as InceptionV3 requires inputs of this size.\n",
    "# batch_size=32 specifies the number of images to yield in each batch.\n",
    "# class_mode='categorical' indicates that labels are to be one-hot encoded, which is a common format for categorical classification.\n",
    "\n",
    "\n",
    "validation_generator = train_datagen.flow_from_directory(\n",
    "    validation_data_dir,\n",
    "    target_size=(299, 299),\n",
    "    batch_size=32,\n",
    "    class_mode='categorical')\n",
    "# Similar to train_generator, this creates a generator for validation data (validation_generator). \n",
    "# It reads images from validation_data_dir, preprocesses them, and yields them in batches.\n",
    "# The parameters are the same as for the training generator, ensuring consistency in how training and validation images are processed."
   ]
  },
  {
   "cell_type": "markdown",
   "metadata": {
    "id": "uEIrfaPBt7as"
   },
   "source": [
    "# **Step 2. Load the InceptionV3 Model**\n",
    "\n"
   ]
  },
  {
   "cell_type": "code",
   "execution_count": null,
   "metadata": {
    "colab": {
     "base_uri": "https://localhost:8080/"
    },
    "executionInfo": {
     "elapsed": 5638,
     "status": "ok",
     "timestamp": 1705519556681,
     "user": {
      "displayName": "Mohammad Mahdi Khojasteh",
      "userId": "13762549074079950332"
     },
     "user_tz": -210
    },
    "id": "q0gAfZzFsqji",
    "outputId": "241ccb7f-587f-4087-ff66-990138729aaf"
   },
   "outputs": [
    {
     "name": "stdout",
     "output_type": "stream",
     "text": [
      "Downloading data from https://storage.googleapis.com/tensorflow/keras-applications/inception_v3/inception_v3_weights_tf_dim_ordering_tf_kernels_notop.h5\n",
      "87910968/87910968 [==============================] - 1s 0us/step\n"
     ]
    }
   ],
   "source": [
    "# Load InceptionV3 from Keras applications. \n",
    "# Set include_top to False to exclude the final fully connected layer, as you will be adding your own for the 22 classes.\n",
    "\n",
    "from tensorflow.keras.applications import InceptionV3 # This line imports the InceptionV3 model from TensorFlow's Keras applications module. InceptionV3 is a popular convolutional neural network architecture used for image classification.\n",
    "\n",
    "base_model = InceptionV3(weights='imagenet', include_top=False) \n",
    "# base_model is initialized as an instance of the InceptionV3 model.\n",
    "# weights='imagenet' indicates that the model should be loaded with weights pre-trained on ImageNet, a large visual database used for image classification. \n",
    "# These pre-trained weights allow the model to leverage knowledge gained from a large dataset.\n",
    "# include_top=False specifies that the top (or the last fully connected) layers of the model should not be included. \n",
    "# This is typically done when the model is being repurposed for a different task or a different number of classes than it was originally trained on (in this case, ImageNet's 1000 classes).\n",
    "\n",
    "for layer in base_model.layers:\n",
    "    layer.trainable = False\n",
    "# This loop iterates through each layer in the base_model.\n",
    "# layer.trainable = False sets the trainable attribute of each layer to False. \n",
    "# This action freezes the weights and biases in all layers of the InceptionV3 model, meaning they will not be updated during training.\n",
    "# Freezing the layers is a common practice when using a pre-trained model as a feature extractor in transfer learning. \n",
    "# By keeping the pre-trained weights fixed, you leverage the learned features and only train the additional layers you might add for your specific task."
   ]
  },
  {
   "cell_type": "markdown",
   "metadata": {
    "id": "mxU9D8iSuAd_"
   },
   "source": [
    "# **Step 3. Add Custom Layers**\n",
    "\n"
   ]
  },
  {
   "cell_type": "code",
   "execution_count": null,
   "metadata": {
    "id": "Qi2nQdCBt-SP"
   },
   "outputs": [],
   "source": [
    "# A neural network is a set of layers. \n",
    "# Each layer receives some input, performs calculations on this input, and passes the output to the next layer. \n",
    "# Although there are many built-in layers in Keras for different use cases, Keras layers like Conv2D, MaxPooling2D, Dense, and Flatten have different uses and we use them according to our needs. \n",
    "# But sometimes we may want to perform calculations other than these Keras layers. \n",
    "# So we need to build our own layer and define our own algorithm to calculate the input data. \n",
    "# Keras provides this feature for writing our custom layers.\n",
    "\n",
    "# There are two main models in Keras, the Sequential model, and the Model class, which use a functional API. \n",
    "# The sequential model is the easiest way to build a model in Keras. It allows you to build a model layer by layer.\n",
    "# Add your custom layers on top of the base model. \n",
    "# This typically includes some flattening, a fully connected layer, and an output layer with 22 units (for your 22 classes), with a softmax activation function.\n",
    "\n",
    "from tensorflow.keras import layers, models # This line imports the layers and models modules from TensorFlow's Keras API. These modules contain necessary classes and functions to build neural network layers and models.\n",
    "\n",
    "x = base_model.output # This line takes the output of the previously defined base_model (the InceptionV3 model without its top layers). This output will be used as the input to the additional layers that you are about to add.\n",
    "x = layers.GlobalAveragePooling2D()(x) # A GlobalAveragePooling2D layer is added to the model. This layer performs a global average pooling operation, effectively reducing the spatial dimensions (height and width) of the input feature map to 1, thus reducing the number of parameters and computations in the network. It helps in reducing overfitting.\n",
    "x = layers.Dense(1024, activation='relu')(x) # Here, a fully connected (Dense) layer with 1024 neurons is added. The activation='relu' argument means the Rectified Linear Unit (ReLU) activation function is used, which introduces non-linearity to the model, allowing it to learn more complex patterns.\n",
    "predictions = layers.Dense(22, activation='softmax')(x) # Another Dense layer is added, this time with 22 neurons, corresponding to the number of classes in the target dataset (assuming you have 22 different classes to predict). The activation='softmax' is used as it is a multi-class classification problem. The softmax function outputs a probability distribution over the 22 classes, where the sum of the probabilities is 1.\n",
    "\n",
    "model = models.Model(inputs=base_model.input, outputs=predictions)\n",
    "# This line creates a new Model object.\n",
    "# inputs=base_model.input indicates that the input to this new model is the input of the base_model.\n",
    "# outputs=predictions means the output of the model is the predictions layer we just defined.\n",
    "# Essentially, this line stitches together the InceptionV3 base model (with its top layers removed) and the newly added layers into a complete model ready for training on a new dataset."
   ]
  },
  {
   "cell_type": "markdown",
   "metadata": {
    "id": "3ruJwvuiuEai"
   },
   "source": [
    "# **Step 4. Compile the Model**\n",
    "\n"
   ]
  },
  {
   "cell_type": "code",
   "execution_count": null,
   "metadata": {
    "id": "hmPWHhGbuC1B"
   },
   "outputs": [],
   "source": [
    "# Compile the model, specifying the optimizer, loss function, and metrics to track.\n",
    "\n",
    "model.compile(optimizer='rmsprop', loss='categorical_crossentropy', metrics=['accuracy'])\n",
    "\n",
    "# The compile method is used to configure the model for training. \n",
    "# It sets up the model with the loss function, optimizer, and metrics you want to collect.\n",
    "# optimizer='rmsprop': The optimizer is one of the arguments passed to compile. \n",
    "# It determines how the model is updated based on the data it sees and its loss function. \n",
    "# 'rmsprop' refers to RMSprop (Root Mean Square Propagation) optimizer, a popular gradient descent optimization algorithm. \n",
    "# RMSprop is known for its effectiveness in dealing with the vanishing and exploding gradient problems often encountered in deep neural networks.\n",
    "# loss='categorical_crossentropy': This is the loss function used to measure how well the model is performing during training. \n",
    "# 'categorical_crossentropy' is the loss function that is used in multi-class classification tasks when the labels are one-hot encoded. \n",
    "# It calculates the cross-entropy loss between the true labels and the predictions of the model, which is a measure of the difference between two probability distributions.\n",
    "# metrics=['accuracy']: Metrics are used to monitor the training and testing steps. \n",
    "# ['accuracy'] means that you want to monitor the accuracy metric during training and evaluation of the model. \n",
    "# Accuracy measures the proportion of correctly predicted instances compared to the total number of instances.\n"
   ]
  },
  {
   "cell_type": "markdown",
   "metadata": {
    "id": "3CgVoH65uIeT"
   },
   "source": [
    "# **Step 5. Train the Model**\n",
    "\n"
   ]
  },
  {
   "cell_type": "code",
   "execution_count": null,
   "metadata": {
    "colab": {
     "base_uri": "https://localhost:8080/"
    },
    "executionInfo": {
     "elapsed": 202702,
     "status": "ok",
     "timestamp": 1705522790336,
     "user": {
      "displayName": "Mohammad Mahdi Khojasteh",
      "userId": "13762549074079950332"
     },
     "user_tz": -210
    },
    "id": "2U_wBBXkuG2Q",
    "outputId": "092c4640-3b74-408e-a7d1-e6e97b346dc0"
   },
   "outputs": [
    {
     "name": "stdout",
     "output_type": "stream",
     "text": [
      "Epoch 1/10\n",
      "699/699 [==============================] - 363s 498ms/step - loss: 0.8965 - accuracy: 0.7379 - val_loss: 0.7086 - val_accuracy: 0.7781\n",
      "Epoch 2/10\n",
      "699/699 [==============================] - 321s 459ms/step - loss: 0.5083 - accuracy: 0.8439 - val_loss: 0.5004 - val_accuracy: 0.8450\n",
      "Epoch 3/10\n",
      "699/699 [==============================] - 315s 451ms/step - loss: 0.4272 - accuracy: 0.8658 - val_loss: 0.4194 - val_accuracy: 0.8735\n",
      "Epoch 4/10\n",
      "699/699 [==============================] - 341s 489ms/step - loss: 0.3749 - accuracy: 0.8851 - val_loss: 0.7725 - val_accuracy: 0.7837\n",
      "Epoch 5/10\n",
      "699/699 [==============================] - 314s 450ms/step - loss: 0.3419 - accuracy: 0.8937 - val_loss: 0.4578 - val_accuracy: 0.8669\n",
      "Epoch 6/10\n",
      "699/699 [==============================] - 312s 446ms/step - loss: 0.3144 - accuracy: 0.9041 - val_loss: 0.4483 - val_accuracy: 0.8708\n",
      "Epoch 7/10\n",
      "699/699 [==============================] - 310s 443ms/step - loss: 0.2989 - accuracy: 0.9071 - val_loss: 0.3907 - val_accuracy: 0.8883\n",
      "Epoch 8/10\n",
      "699/699 [==============================] - 311s 445ms/step - loss: 0.2762 - accuracy: 0.9159 - val_loss: 0.4034 - val_accuracy: 0.8867\n",
      "Epoch 9/10\n",
      "699/699 [==============================] - 311s 445ms/step - loss: 0.2619 - accuracy: 0.9205 - val_loss: 0.4288 - val_accuracy: 0.8819\n",
      "Epoch 10/10\n",
      "699/699 [==============================] - 307s 440ms/step - loss: 0.2503 - accuracy: 0.9233 - val_loss: 0.3636 - val_accuracy: 0.8948\n"
     ]
    }
   ],
   "source": [
    "# Train the model using the data generators you created.\n",
    "\n",
    "history = model.fit( # model.fit is a method in Keras used to train the model for a fixed number of epochs (iterations on a dataset). The method returns a History object, which is being captured in the variable history. This object holds a record of training loss values and metrics values at successive epochs, as well as validation loss values and validation metrics values if applicable.\n",
    "    train_generator, # The first argument to model.fit is the training data generator (train_generator), which you defined earlier. This generator will yield batches of training data and labels.\n",
    "    epochs=10, # epochs specifies the number of times the training process will work through the entire training dataset. Here, it's set to 10, meaning the training dataset will be passed through the neural network in batches, 10 times.\n",
    "    validation_data=validation_generator) # validation_data is used to evaluate the loss and any model metrics at the end of each epoch. The model will not be trained on this data. validation_generator is the data generator for validation data you set up earlier. This allows you to monitor the model’s performance on a separate set of data (validation data) that is not used for training."
   ]
  },
  {
   "cell_type": "code",
   "execution_count": null,
   "metadata": {
    "id": "_Vgw-uhrXiYl"
   },
   "outputs": [],
   "source": [
    "import matplotlib.pyplot as plt\n",
    "\n",
    "# This line imports the matplotlib.pyplot module, which is a collection of command style functions that make Matplotlib work like MATLAB. \n",
    "# It is typically imported under the alias plt."
   ]
  },
  {
   "cell_type": "code",
   "execution_count": null,
   "metadata": {
    "colab": {
     "base_uri": "https://localhost:8080/",
     "height": 564
    },
    "executionInfo": {
     "elapsed": 16,
     "status": "ok",
     "timestamp": 1705522790340,
     "user": {
      "displayName": "Mohammad Mahdi Khojasteh",
      "userId": "13762549074079950332"
     },
     "user_tz": -210
    },
    "id": "5wiWs7lm4Kr4",
    "outputId": "ada542c2-0aa2-4ccf-bc8f-52d8fdb9a14d"
   },
   "outputs": [
    {
     "data": {
      "image/png": "[encoded data removed]",
      "text/plain": [
       "<Figure size 1200x600 with 2 Axes>"
      ]
     },
     "metadata": {},
     "output_type": "display_data"
    }
   ],
   "source": [
    "plt.figure(figsize=(12, 6)) # Creates a new figure for plotting with a width of 12 inches and a height of 6 inches.\n",
    "plt.subplot(1, 2, 1) # This function divides the figure into a 1x2 grid (1 row, 2 columns) and creates a subplot in the first column. This is where the accuracy plot will be drawn.\n",
    "plt.plot(history.history['accuracy']) # These lines plot the training accuracy ('accuracy') and validation accuracy ('val_accuracy') from the history object. history.history is a dictionary containing the training and validation metrics after each epoch.\n",
    "plt.plot(history.history['val_accuracy']) \n",
    "plt.title('Model Accuracy') # These lines set the title of the plot, and the labels for the y-axis and x-axis respectively.\n",
    "plt.ylabel('Accuracy')\n",
    "plt.xlabel('Epoch')\n",
    "plt.legend(['Train', 'Validation'], loc='upper left') # Adds a legend to the plot with the labels 'Train' and 'Validation', located in the upper left corner of the plot.\n",
    "\n",
    "plt.subplot(1, 2, 2) # This function creates a subplot in the second column of the 1x2 grid for the loss plot.\n",
    "plt.plot(history.history['loss']) # These lines plot the training loss ('loss') and validation loss ('val_loss') from the history object.\n",
    "plt.plot(history.history['val_loss'])\n",
    "plt.title('Model Loss')\n",
    "plt.ylabel('Loss')\n",
    "plt.xlabel('Epoch')\n",
    "plt.legend(['Train', 'Validation'], loc='upper left')\n",
    "\n",
    "plt.show() # Finally, this function displays the figure with the two subplots."
   ]
  },
  {
   "cell_type": "markdown",
   "metadata": {
    "id": "O7gAumgkuMKJ"
   },
   "source": [
    "# **Step 6. Evaluate and Use the Model**\n",
    "\n"
   ]
  },
  {
   "cell_type": "code",
   "execution_count": null,
   "metadata": {
    "id": "NHL0X3k1F_Xd"
   },
   "outputs": [],
   "source": [
    "import numpy as np\n",
    "\n",
    "# In general, the goal of learning any topic is to simply do things. \n",
    "# Therefore, the goal of learning NumPy is to acquire the necessary information to speed up calculations related to arrays and matrices. \n",
    "# On the other hand, this library helps you to perform the calculations related to machine learning more accurately and to be more sure of the intended output."
   ]
  },
  {
   "cell_type": "code",
   "execution_count": null,
   "metadata": {
    "colab": {
     "base_uri": "https://localhost:8080/"
    },
    "executionInfo": {
     "elapsed": 82720,
     "status": "ok",
     "timestamp": 1705523115734,
     "user": {
      "displayName": "Mohammad Mahdi Khojasteh",
      "userId": "13762549074079950332"
     },
     "user_tz": -210
    },
    "id": "OvzyP65MuKoR",
    "outputId": "0b4983ca-b670-424c-9806-8f085a04d0b6"
   },
   "outputs": [
    {
     "name": "stdout",
     "output_type": "stream",
     "text": [
      "150/150 [==============================] - 55s 367ms/step - loss: 0.3636 - accuracy: 0.8948\n",
      "Validation Loss: 0.36358898878097534, Validation Accuracy: 0.8947916626930237\n",
      "1/1 [==============================] - 0s 26ms/step\n"
     ]
    }
   ],
   "source": [
    "# Evaluate the model on your validation/test set. \n",
    "# Adjust training (like changing learning rates, adding dropout, or more data augmentation) based on the evaluation. \n",
    "# Predict new images for classification.\n",
    "\n",
    "evaluation = model.evaluate(validation_generator) # model.evaluate computes the loss and any other metrics specified during model compilation (in your case, accuracy) on the validation set. validation_generator is used to provide the validation data. The result, evaluation, is a list containing the loss as its first element and accuracy as the second.\n",
    "print(f\"Validation Loss: {evaluation[0]}, Validation Accuracy: {evaluation[1]}\") # This line prints the validation loss and accuracy, using Python's f-string for formatted output.\n",
    "\n",
    "def predict_image(image_path): # a function defined to predict the class of an image specified by image_path.\n",
    "    img = tf.keras.preprocessing.image.load_img(image_path, target_size=(299, 299))\n",
    "    img_array = tf.keras.preprocessing.image.img_to_array(img)\n",
    "    img_array = tf.expand_dims(img_array, 0)\n",
    "    img_array = tf.keras.applications.inception_v3.preprocess_input(img_array)\n",
    "\n",
    "    predictions = model.predict(img_array)\n",
    "    predicted_class = np.argmax(predictions, axis=1)\n",
    "    return predicted_class\n",
    "\n",
    "# Inside predict_image:\n",
    "# img = tf.keras.preprocessing.image.load_img(image_path, target_size=(299, 299)) loads the image from image_path and resizes it to 299x299 pixels, which is the input size expected by InceptionV3.\n",
    "# img_array = tf.keras.preprocessing.image.img_to_array(img) converts the PIL Image to a NumPy array.\n",
    "# img_array = tf.expand_dims(img_array, 0) adds an extra dimension to the array to represent the batch size, as the model expects batches of images.\n",
    "# img_array = tf.keras.applications.inception_v3.preprocess_input(img_array) preprocesses the image array by scaling the pixel values in a way that the InceptionV3 model expects.\n",
    "# predictions = model.predict(img_array) uses the model to make predictions on the preprocessed image.\n",
    "# predicted_class = np.argmax(predictions, axis=1) finds the class with the highest predicted probability.\n",
    "\n",
    "class_idx = predict_image('/content/test/test/1400Ripples/L1_4PDXlSyAbc_spectrogram_0.5.png') # This line calls the predict_image function with a specified image path and stores the predicted class index in class_idx."
   ]
  },
  {
   "cell_type": "markdown",
   "metadata": {
    "id": "IhGT2dTxyCbS"
   },
   "source": [
    "# **Step 7. Fine-Tuning**\n"
   ]
  },
  {
   "cell_type": "code",
   "execution_count": null,
   "metadata": {
    "colab": {
     "base_uri": "https://localhost:8080/"
    },
    "executionInfo": {
     "elapsed": 3871048,
     "status": "ok",
     "timestamp": 1705527099264,
     "user": {
      "displayName": "Mohammad Mahdi Khojasteh",
      "userId": "13762549074079950332"
     },
     "user_tz": -210
    },
    "id": "7VWvsFciyFMP",
    "outputId": "1f570bcc-b00e-4256-d3a9-9370e6200a80"
   },
   "outputs": [
    {
     "name": "stdout",
     "output_type": "stream",
     "text": [
      "Epoch 1/10\n",
      "699/699 [==============================] - 467s 606ms/step - loss: 0.8531 - accuracy: 0.7646 - val_loss: 0.3149 - val_accuracy: 0.9067\n",
      "Epoch 2/10\n",
      "699/699 [==============================] - 375s 536ms/step - loss: 0.2365 - accuracy: 0.9294 - val_loss: 0.2251 - val_accuracy: 0.9350\n",
      "Epoch 3/10\n",
      "699/699 [==============================] - 373s 534ms/step - loss: 0.1460 - accuracy: 0.9564 - val_loss: 0.1922 - val_accuracy: 0.9442\n",
      "Epoch 4/10\n",
      "699/699 [==============================] - 374s 535ms/step - loss: 0.0939 - accuracy: 0.9732 - val_loss: 0.1840 - val_accuracy: 0.9504\n",
      "Epoch 5/10\n",
      "699/699 [==============================] - 375s 536ms/step - loss: 0.0694 - accuracy: 0.9800 - val_loss: 0.1862 - val_accuracy: 0.9550\n",
      "Epoch 6/10\n",
      "699/699 [==============================] - 375s 536ms/step - loss: 0.0509 - accuracy: 0.9874 - val_loss: 0.1990 - val_accuracy: 0.9488\n",
      "Epoch 7/10\n",
      "699/699 [==============================] - 375s 536ms/step - loss: 0.0453 - accuracy: 0.9880 - val_loss: 0.1832 - val_accuracy: 0.9540\n",
      "Epoch 8/10\n",
      "699/699 [==============================] - 399s 571ms/step - loss: 0.0372 - accuracy: 0.9898 - val_loss: 0.1920 - val_accuracy: 0.9565\n",
      "Epoch 9/10\n",
      "699/699 [==============================] - 381s 545ms/step - loss: 0.0319 - accuracy: 0.9918 - val_loss: 0.1830 - val_accuracy: 0.9590\n",
      "Epoch 10/10\n",
      "699/699 [==============================] - 374s 535ms/step - loss: 0.0297 - accuracy: 0.9921 - val_loss: 0.1952 - val_accuracy: 0.9594\n"
     ]
    }
   ],
   "source": [
    "# Once your model has initially trained, you can fine-tune by unfreezing the top layers of the InceptionV3 model and continue training. \n",
    "# This step requires a lower learning rate to avoid damaging the pretrained weights.\n",
    "\n",
    "base_model.trainable = True # This line sets the trainable attribute of the base_model to True. Remember that base_model is your InceptionV3 model. Initially, you had frozen the layers of base_model (by setting their trainable attribute to False) for the first phase of training. By setting trainable to True, all layers in the base_model are now unfrozen and can be updated during training.\n",
    "\n",
    "model.compile(optimizer=tf.keras.optimizers.Adam(1e-5),\n",
    "              loss='categorical_crossentropy',\n",
    "              metrics=['accuracy'])\n",
    "\n",
    "# The model is recompiled with an optimizer, loss function, and metrics. This is necessary after making changes to the trainable status of any layer in the model.\n",
    "# optimizer=tf.keras.optimizers.Adam(1e-5): The Adam optimizer is used with a very low learning rate (1e-5). This smaller learning rate helps in fine-tuning because you typically want to make smaller adjustments to the model, not to overwrite its previously learned patterns.\n",
    "# loss='categorical_crossentropy' and metrics=['accuracy']: These are the same loss function and metric used earlier.\n",
    "\n",
    "fine_tune_epochs = 10 # This sets the number of epochs for the fine-tuning phase to 10.\n",
    "\n",
    "history_fine = model.fit(\n",
    "    train_generator,\n",
    "    epochs=fine_tune_epochs,\n",
    "    validation_data=validation_generator\n",
    ")\n",
    "\n",
    "# The model is trained again using the fit method. This time, the entire model, including the previously frozen base model layers, is being trained.\n",
    "# train_generator and validation_generator are used again for training and validation data.\n",
    "# epochs=fine_tune_epochs indicates that the training will proceed for the number of epochs specified in fine_tune_epochs.\n"
   ]
  },
  {
   "cell_type": "markdown",
   "metadata": {
    "id": "vpSraO532E-P"
   },
   "source": [
    "# **Part II**\n",
    "# **EfficientNet**"
   ]
  },
  {
   "cell_type": "markdown",
   "metadata": {
    "id": "lpSEyNPNjCVL"
   },
   "source": [
    "# **Step 1. import the necessary modules in your Google Colab notebook**"
   ]
  },
  {
   "cell_type": "code",
   "execution_count": null,
   "metadata": {
    "id": "BTZwFI-3jDkE"
   },
   "outputs": [],
   "source": [
    "import tensorflow as tf\n",
    "from tensorflow.keras.preprocessing.image import ImageDataGenerator\n",
    "from tensorflow.keras.applications import EfficientNetB0  # or another version of EfficientNet\n",
    "from tensorflow.keras import layers, models"
   ]
  },
  {
   "cell_type": "markdown",
   "metadata": {
    "id": "EGHMTqghjFPK"
   },
   "source": [
    "# **Step 2. Data Preprocessing**\n",
    "\n"
   ]
  },
  {
   "cell_type": "code",
   "execution_count": null,
   "metadata": {
    "colab": {
     "base_uri": "https://localhost:8080/"
    },
    "executionInfo": {
     "elapsed": 1266,
     "status": "ok",
     "timestamp": 1705527556922,
     "user": {
      "displayName": "Mohammad Mahdi Khojasteh",
      "userId": "13762549074079950332"
     },
     "user_tz": -210
    },
    "id": "jfSuJ-jajIUC",
    "outputId": "00aa332d-ac61-49ce-8200-f8d9fbf44276"
   },
   "outputs": [
    {
     "name": "stdout",
     "output_type": "stream",
     "text": [
      "Found 17887 images belonging to 22 classes.\n",
      "Found 950 images belonging to 22 classes.\n"
     ]
    }
   ],
   "source": [
    "train_datagen = ImageDataGenerator(\n",
    "    preprocessing_function=tf.keras.applications.efficientnet.preprocess_input,\n",
    "    validation_split=0.2\n",
    ")\n",
    "\n",
    "train_data_dir = '/content/train/train'\n",
    "validation_data_dir = '/content/validation/validation'\n",
    "\n",
    "train_generator = train_datagen.flow_from_directory(\n",
    "    train_data_dir,\n",
    "    target_size=(224, 224),  # Default size for EfficientNetB0\n",
    "    batch_size=32,\n",
    "    class_mode='categorical',\n",
    "    subset='training')\n",
    "\n",
    "validation_generator = train_datagen.flow_from_directory(\n",
    "    validation_data_dir,\n",
    "    target_size=(224, 224),\n",
    "    batch_size=32,\n",
    "    class_mode='categorical',\n",
    "    subset='validation')"
   ]
  },
  {
   "cell_type": "markdown",
   "metadata": {
    "id": "jRa7V2FdjKF7"
   },
   "source": [
    "# **Step 3. Load EfficientNet Model**\n",
    "\n"
   ]
  },
  {
   "cell_type": "code",
   "execution_count": null,
   "metadata": {
    "colab": {
     "base_uri": "https://localhost:8080/"
    },
    "executionInfo": {
     "elapsed": 2907,
     "status": "ok",
     "timestamp": 1705527559820,
     "user": {
      "displayName": "Mohammad Mahdi Khojasteh",
      "userId": "13762549074079950332"
     },
     "user_tz": -210
    },
    "id": "PVAZa5SijMFM",
    "outputId": "99b28cdb-7a4b-4163-c068-eaa0b84c16d4"
   },
   "outputs": [
    {
     "name": "stdout",
     "output_type": "stream",
     "text": [
      "Downloading data from https://storage.googleapis.com/keras-applications/efficientnetb0_notop.h5\n",
      "16705208/16705208 [==============================] - 0s 0us/step\n"
     ]
    }
   ],
   "source": [
    "base_model = EfficientNetB0(include_top=False, weights='imagenet', input_shape=(224, 224, 3))\n",
    "\n",
    "base_model.trainable = False"
   ]
  },
  {
   "cell_type": "markdown",
   "metadata": {
    "id": "xQf1TksQjN86"
   },
   "source": [
    "# **Step 4. Add Custom Layers**\n",
    "\n"
   ]
  },
  {
   "cell_type": "code",
   "execution_count": null,
   "metadata": {
    "id": "4EwyZEqDjP1v"
   },
   "outputs": [],
   "source": [
    "x = base_model.output\n",
    "x = layers.GlobalAveragePooling2D()(x)\n",
    "x = layers.Dense(1024, activation='relu')(x)\n",
    "predictions = layers.Dense(22, activation='softmax')(x)\n",
    "\n",
    "model = models.Model(inputs=base_model.input, outputs=predictions)"
   ]
  },
  {
   "cell_type": "markdown",
   "metadata": {
    "id": "nJPUo47_jSFc"
   },
   "source": [
    "# **Step 5. Compile the Model**\n",
    "\n"
   ]
  },
  {
   "cell_type": "code",
   "execution_count": null,
   "metadata": {
    "id": "ffmamxAvjT_2"
   },
   "outputs": [],
   "source": [
    "model.compile(optimizer='adam', loss='categorical_crossentropy', metrics=['accuracy'])"
   ]
  },
  {
   "cell_type": "markdown",
   "metadata": {
    "id": "FzrvQhvkjVsm"
   },
   "source": [
    "# **Step 6. Train the Model**\n",
    "\n"
   ]
  },
  {
   "cell_type": "code",
   "execution_count": null,
   "metadata": {
    "colab": {
     "base_uri": "https://localhost:8080/"
    },
    "executionInfo": {
     "elapsed": 367354,
     "status": "ok",
     "timestamp": 1705529398829,
     "user": {
      "displayName": "Mohammad Mahdi Khojasteh",
      "userId": "13762549074079950332"
     },
     "user_tz": -210
    },
    "id": "z8negH19jXkd",
    "outputId": "d1316a39-e3e8-4c84-bb3e-408034ce5d4a"
   },
   "outputs": [
    {
     "name": "stdout",
     "output_type": "stream",
     "text": [
      "Epoch 1/10\n",
      "559/559 [==============================] - 218s 370ms/step - loss: 0.7192 - accuracy: 0.7849 - val_loss: 0.5644 - val_accuracy: 0.8158\n",
      "Epoch 2/10\n",
      "559/559 [==============================] - 181s 324ms/step - loss: 0.4483 - accuracy: 0.8615 - val_loss: 0.5298 - val_accuracy: 0.8211\n",
      "Epoch 3/10\n",
      "559/559 [==============================] - 177s 317ms/step - loss: 0.3825 - accuracy: 0.8819 - val_loss: 0.4601 - val_accuracy: 0.8463\n",
      "Epoch 4/10\n",
      "559/559 [==============================] - 173s 309ms/step - loss: 0.3412 - accuracy: 0.8913 - val_loss: 0.4196 - val_accuracy: 0.8695\n",
      "Epoch 5/10\n",
      "559/559 [==============================] - 174s 311ms/step - loss: 0.3101 - accuracy: 0.9009 - val_loss: 0.3910 - val_accuracy: 0.8779\n",
      "Epoch 6/10\n",
      "559/559 [==============================] - 174s 311ms/step - loss: 0.2904 - accuracy: 0.9079 - val_loss: 0.4111 - val_accuracy: 0.8653\n",
      "Epoch 7/10\n",
      "559/559 [==============================] - 173s 310ms/step - loss: 0.2703 - accuracy: 0.9148 - val_loss: 0.4280 - val_accuracy: 0.8726\n",
      "Epoch 8/10\n",
      "559/559 [==============================] - 170s 304ms/step - loss: 0.2563 - accuracy: 0.9159 - val_loss: 0.4094 - val_accuracy: 0.8779\n",
      "Epoch 9/10\n",
      "559/559 [==============================] - 171s 305ms/step - loss: 0.2505 - accuracy: 0.9199 - val_loss: 0.4236 - val_accuracy: 0.8716\n",
      "Epoch 10/10\n",
      "559/559 [==============================] - 174s 312ms/step - loss: 0.2337 - accuracy: 0.9261 - val_loss: 0.4069 - val_accuracy: 0.8695\n"
     ]
    }
   ],
   "source": [
    "history = model.fit(\n",
    "    train_generator,\n",
    "    epochs=10,\n",
    "    validation_data=validation_generator)"
   ]
  },
  {
   "cell_type": "code",
   "execution_count": null,
   "metadata": {
    "id": "ixUPfbIYZ1oT"
   },
   "outputs": [],
   "source": [
    "import matplotlib.pyplot as plt"
   ]
  },
  {
   "cell_type": "code",
   "execution_count": null,
   "metadata": {
    "colab": {
     "base_uri": "https://localhost:8080/",
     "height": 564
    },
    "executionInfo": {
     "elapsed": 5,
     "status": "ok",
     "timestamp": 1705529398835,
     "user": {
      "displayName": "Mohammad Mahdi Khojasteh",
      "userId": "13762549074079950332"
     },
     "user_tz": -210
    },
    "id": "K8LqWXDkAxUK",
    "outputId": "1e8cd597-6ffb-44a5-8bb7-b2d320d9c819"
   },
   "outputs": [
    {
     "data": {
      "image/png": "[encoded data removed]",
      "text/plain": [
       "<Figure size 1200x600 with 2 Axes>"
      ]
     },
     "metadata": {},
     "output_type": "display_data"
    }
   ],
   "source": [
    "plt.figure(figsize=(12, 6))\n",
    "plt.subplot(1, 2, 1)\n",
    "plt.plot(history.history['accuracy'])\n",
    "plt.plot(history.history['val_accuracy'])\n",
    "plt.title('Model Accuracy')\n",
    "plt.ylabel('Accuracy')\n",
    "plt.xlabel('Epoch')\n",
    "plt.legend(['Train', 'Validation'], loc='upper left')\n",
    "\n",
    "plt.subplot(1, 2, 2)\n",
    "plt.plot(history.history['loss'])\n",
    "plt.plot(history.history['val_loss'])\n",
    "plt.title('Model Loss')\n",
    "plt.ylabel('Loss')\n",
    "plt.xlabel('Epoch')\n",
    "plt.legend(['Train', 'Validation'], loc='upper left')\n",
    "\n",
    "plt.show()"
   ]
  },
  {
   "cell_type": "markdown",
   "metadata": {
    "id": "EHBYlvcHjZou"
   },
   "source": [
    "# **Step 7. Fine-Tuning**\n",
    "\n"
   ]
  },
  {
   "cell_type": "code",
   "execution_count": null,
   "metadata": {
    "colab": {
     "base_uri": "https://localhost:8080/"
    },
    "executionInfo": {
     "elapsed": 775488,
     "status": "ok",
     "timestamp": 1705531537003,
     "user": {
      "displayName": "Mohammad Mahdi Khojasteh",
      "userId": "13762549074079950332"
     },
     "user_tz": -210
    },
    "id": "V8rL31iYjbQy",
    "outputId": "797e8c55-2574-4f16-c0b6-8739600b5dd6"
   },
   "outputs": [
    {
     "name": "stdout",
     "output_type": "stream",
     "text": [
      "Epoch 1/10\n",
      "559/559 [==============================] - 242s 367ms/step - loss: 3.7201 - accuracy: 0.5037 - val_loss: 1.4512 - val_accuracy: 0.6758\n",
      "Epoch 2/10\n",
      "559/559 [==============================] - 206s 368ms/step - loss: 1.1368 - accuracy: 0.7315 - val_loss: 0.8604 - val_accuracy: 0.7842\n",
      "Epoch 3/10\n",
      "559/559 [==============================] - 203s 363ms/step - loss: 0.7539 - accuracy: 0.7983 - val_loss: 0.6409 - val_accuracy: 0.8168\n",
      "Epoch 4/10\n",
      "559/559 [==============================] - 206s 367ms/step - loss: 0.5666 - accuracy: 0.8377 - val_loss: 0.5302 - val_accuracy: 0.8421\n",
      "Epoch 5/10\n",
      "559/559 [==============================] - 204s 364ms/step - loss: 0.4654 - accuracy: 0.8630 - val_loss: 0.4586 - val_accuracy: 0.8642\n",
      "Epoch 6/10\n",
      "559/559 [==============================] - 204s 365ms/step - loss: 0.3668 - accuracy: 0.8905 - val_loss: 0.4280 - val_accuracy: 0.8789\n",
      "Epoch 7/10\n",
      "559/559 [==============================] - 203s 362ms/step - loss: 0.3230 - accuracy: 0.9017 - val_loss: 0.3779 - val_accuracy: 0.8853\n",
      "Epoch 8/10\n",
      "559/559 [==============================] - 205s 366ms/step - loss: 0.2734 - accuracy: 0.9164 - val_loss: 0.3574 - val_accuracy: 0.8947\n",
      "Epoch 9/10\n",
      "559/559 [==============================] - 204s 364ms/step - loss: 0.2369 - accuracy: 0.9251 - val_loss: 0.3367 - val_accuracy: 0.9011\n",
      "Epoch 10/10\n",
      "559/559 [==============================] - 207s 371ms/step - loss: 0.2078 - accuracy: 0.9339 - val_loss: 0.3268 - val_accuracy: 0.9042\n"
     ]
    }
   ],
   "source": [
    "base_model.trainable = True\n",
    "\n",
    "model.compile(optimizer=tf.keras.optimizers.Adam(1e-5),\n",
    "              loss='categorical_crossentropy',\n",
    "              metrics=['accuracy'])\n",
    "\n",
    "fine_tune_epochs = 10\n",
    "\n",
    "history_fine = model.fit(train_generator,\n",
    "                         epochs=fine_tune_epochs,\n",
    "                         validation_data=validation_generator)"
   ]
  },
  {
   "cell_type": "markdown",
   "metadata": {
    "id": "r_aYeQ_zjdOd"
   },
   "source": [
    "# **Step 8. Model Evaluation and Prediction**\n",
    "\n"
   ]
  },
  {
   "cell_type": "code",
   "execution_count": null,
   "metadata": {
    "id": "U6S2DgWWmyuV"
   },
   "outputs": [],
   "source": [
    "import numpy as np"
   ]
  },
  {
   "cell_type": "code",
   "execution_count": null,
   "metadata": {
    "colab": {
     "base_uri": "https://localhost:8080/"
    },
    "executionInfo": {
     "elapsed": 11353,
     "status": "ok",
     "timestamp": 1705531631607,
     "user": {
      "displayName": "Mohammad Mahdi Khojasteh",
      "userId": "13762549074079950332"
     },
     "user_tz": -210
    },
    "id": "ZwC-KblkjfvE",
    "outputId": "8c1fca25-6c8f-43ef-b36e-bb5359cb1c8a"
   },
   "outputs": [
    {
     "name": "stdout",
     "output_type": "stream",
     "text": [
      "30/30 [==============================] - 8s 278ms/step - loss: 0.3268 - accuracy: 0.9042\n",
      "Validation Loss: 0.32677963376045227, Validation Accuracy: 0.9042105078697205\n",
      "1/1 [==============================] - 0s 38ms/step\n"
     ]
    }
   ],
   "source": [
    "evaluation = model.evaluate(validation_generator)\n",
    "print(f\"Validation Loss: {evaluation[0]}, Validation Accuracy: {evaluation[1]}\")\n",
    "\n",
    "def predict_image(image_path):\n",
    "    img = tf.keras.preprocessing.image.load_img(image_path, target_size=(224, 224))\n",
    "    img_array = tf.keras.preprocessing.image.img_to_array(img)\n",
    "    img_array = tf.expand_dims(img_array, 0)\n",
    "    img_array = tf.keras.applications.efficientnet.preprocess_input(img_array)\n",
    "\n",
    "    predictions = model.predict(img_array)\n",
    "    predicted_class = np.argmax(predictions, axis=1)\n",
    "    return predicted_class\n",
    "\n",
    "class_idx = predict_image('/content/test/test/Helix/L1_2xHIwtBr1N_spectrogram_4.0.png')"
   ]
  },
  {
   "cell_type": "code",
   "execution_count": null,
   "metadata": {
    "id": "_uHvZ4Zzm_Rl"
   },
   "outputs": [],
   "source": []
  }
 ],
 "metadata": {
  "colab": {
   "authorship_tag": "ABX9TyMSwCnFjfIfLncB8gPsDhaL",
   "provenance": []
  },
  "kernelspec": {
   "display_name": "Python 3",
   "name": "python3"
  },
  "language_info": {
   "name": "python"
  }
 },
 "nbformat": 4,
 "nbformat_minor": 0
}
